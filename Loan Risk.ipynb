{
 "cells": [
  {
   "cell_type": "code",
   "execution_count": 0,
   "metadata": {
    "application/vnd.databricks.v1+cell": {
     "cellMetadata": {
      "byteLimit": 2048000,
      "rowLimit": 10000
     },
     "inputWidgets": {},
     "nuid": "e7709568-2a6f-4822-a473-7c40bba17110",
     "showTitle": false,
     "title": ""
    }
   },
   "outputs": [
    {
     "output_type": "stream",
     "name": "stdout",
     "output_type": "stream",
     "text": [
      "hi\n"
     ]
    }
   ],
   "source": [
    "print(\"hi\")"
   ]
  },
  {
   "cell_type": "code",
   "execution_count": 0,
   "metadata": {
    "application/vnd.databricks.v1+cell": {
     "cellMetadata": {
      "byteLimit": 2048000,
      "rowLimit": 10000
     },
     "inputWidgets": {},
     "nuid": "e36b6dfb-5c3d-432a-a236-1492ccfb81db",
     "showTitle": false,
     "title": ""
    }
   },
   "outputs": [
    {
     "output_type": "stream",
     "name": "stdout",
     "output_type": "stream",
     "text": [
      "\u001B[43mNote: you may need to restart the kernel using dbutils.library.restartPython() to use updated packages.\u001B[0m\nRequirement already satisfied: pandas in /databricks/python3/lib/python3.10/site-packages (1.4.4)\nRequirement already satisfied: numpy>=1.21.0 in /databricks/python3/lib/python3.10/site-packages (from pandas) (1.21.5)\nRequirement already satisfied: python-dateutil>=2.8.1 in /databricks/python3/lib/python3.10/site-packages (from pandas) (2.8.2)\nRequirement already satisfied: pytz>=2020.1 in /databricks/python3/lib/python3.10/site-packages (from pandas) (2022.1)\nRequirement already satisfied: six>=1.5 in /usr/lib/python3/dist-packages (from python-dateutil>=2.8.1->pandas) (1.16.0)\n\u001B[43mNote: you may need to restart the kernel using dbutils.library.restartPython() to use updated packages.\u001B[0m\n"
     ]
    }
   ],
   "source": [
    "%pip install pandas"
   ]
  },
  {
   "cell_type": "code",
   "execution_count": 0,
   "metadata": {
    "application/vnd.databricks.v1+cell": {
     "cellMetadata": {
      "byteLimit": 2048000,
      "rowLimit": 10000
     },
     "inputWidgets": {},
     "nuid": "34d0e425-41b9-47ee-8580-0553d35a9650",
     "showTitle": false,
     "title": ""
    }
   },
   "outputs": [
    {
     "output_type": "execute_result",
     "data": {
      "text/html": [
       "<div>\n",
       "<style scoped>\n",
       "    .dataframe tbody tr th:only-of-type {\n",
       "        vertical-align: middle;\n",
       "    }\n",
       "\n",
       "    .dataframe tbody tr th {\n",
       "        vertical-align: top;\n",
       "    }\n",
       "\n",
       "    .dataframe thead th {\n",
       "        text-align: right;\n",
       "    }\n",
       "</style>\n",
       "<table border=\"1\" class=\"dataframe\">\n",
       "  <thead>\n",
       "    <tr style=\"text-align: right;\">\n",
       "      <th></th>\n",
       "      <th>id</th>\n",
       "      <th>member_id</th>\n",
       "      <th>loan_amnt</th>\n",
       "      <th>funded_amnt</th>\n",
       "      <th>funded_amnt_inv</th>\n",
       "      <th>term</th>\n",
       "      <th>int_rate</th>\n",
       "      <th>installment</th>\n",
       "      <th>grade</th>\n",
       "      <th>sub_grade</th>\n",
       "      <th>emp_title</th>\n",
       "      <th>emp_length</th>\n",
       "      <th>home_ownership</th>\n",
       "      <th>annual_inc</th>\n",
       "      <th>verification_status</th>\n",
       "      <th>issue_d</th>\n",
       "      <th>loan_status</th>\n",
       "      <th>pymnt_plan</th>\n",
       "      <th>url</th>\n",
       "      <th>desc</th>\n",
       "      <th>purpose</th>\n",
       "      <th>title</th>\n",
       "      <th>zip_code</th>\n",
       "      <th>addr_state</th>\n",
       "      <th>dti</th>\n",
       "      <th>delinq_2yrs</th>\n",
       "      <th>earliest_cr_line</th>\n",
       "      <th>inq_last_6mths</th>\n",
       "      <th>mths_since_last_delinq</th>\n",
       "      <th>mths_since_last_record</th>\n",
       "      <th>open_acc</th>\n",
       "      <th>pub_rec</th>\n",
       "      <th>revol_bal</th>\n",
       "      <th>revol_util</th>\n",
       "      <th>total_acc</th>\n",
       "      <th>initial_list_status</th>\n",
       "      <th>out_prncp</th>\n",
       "      <th>out_prncp_inv</th>\n",
       "      <th>total_pymnt</th>\n",
       "      <th>total_pymnt_inv</th>\n",
       "      <th>...</th>\n",
       "      <th>pub_rec_bankruptcies</th>\n",
       "      <th>tax_liens</th>\n",
       "      <th>tot_hi_cred_lim</th>\n",
       "      <th>total_bal_ex_mort</th>\n",
       "      <th>total_bc_limit</th>\n",
       "      <th>total_il_high_credit_limit</th>\n",
       "      <th>revol_bal_joint</th>\n",
       "      <th>sec_app_earliest_cr_line</th>\n",
       "      <th>sec_app_inq_last_6mths</th>\n",
       "      <th>sec_app_mort_acc</th>\n",
       "      <th>sec_app_open_acc</th>\n",
       "      <th>sec_app_revol_util</th>\n",
       "      <th>sec_app_open_act_il</th>\n",
       "      <th>sec_app_num_rev_accts</th>\n",
       "      <th>sec_app_chargeoff_within_12_mths</th>\n",
       "      <th>sec_app_collections_12_mths_ex_med</th>\n",
       "      <th>sec_app_mths_since_last_major_derog</th>\n",
       "      <th>hardship_flag</th>\n",
       "      <th>hardship_type</th>\n",
       "      <th>hardship_reason</th>\n",
       "      <th>hardship_status</th>\n",
       "      <th>deferral_term</th>\n",
       "      <th>hardship_amount</th>\n",
       "      <th>hardship_start_date</th>\n",
       "      <th>hardship_end_date</th>\n",
       "      <th>payment_plan_start_date</th>\n",
       "      <th>hardship_length</th>\n",
       "      <th>hardship_dpd</th>\n",
       "      <th>hardship_loan_status</th>\n",
       "      <th>orig_projected_additional_accrued_interest</th>\n",
       "      <th>hardship_payoff_balance_amount</th>\n",
       "      <th>hardship_last_payment_amount</th>\n",
       "      <th>disbursement_method</th>\n",
       "      <th>debt_settlement_flag</th>\n",
       "      <th>debt_settlement_flag_date</th>\n",
       "      <th>settlement_status</th>\n",
       "      <th>settlement_date</th>\n",
       "      <th>settlement_amount</th>\n",
       "      <th>settlement_percentage</th>\n",
       "      <th>settlement_term</th>\n",
       "    </tr>\n",
       "  </thead>\n",
       "  <tbody>\n",
       "    <tr>\n",
       "      <th>0</th>\n",
       "      <td>NaN</td>\n",
       "      <td>NaN</td>\n",
       "      <td>2500</td>\n",
       "      <td>2500</td>\n",
       "      <td>2500</td>\n",
       "      <td>36 months</td>\n",
       "      <td>13.56</td>\n",
       "      <td>84.92</td>\n",
       "      <td>C</td>\n",
       "      <td>C1</td>\n",
       "      <td>Chef</td>\n",
       "      <td>10+ years</td>\n",
       "      <td>RENT</td>\n",
       "      <td>55000</td>\n",
       "      <td>Not Verified</td>\n",
       "      <td>Dec-18</td>\n",
       "      <td>Current</td>\n",
       "      <td>n</td>\n",
       "      <td>NaN</td>\n",
       "      <td>NaN</td>\n",
       "      <td>debt_consolidation</td>\n",
       "      <td>Debt consolidation</td>\n",
       "      <td>109xx</td>\n",
       "      <td>NY</td>\n",
       "      <td>18.24</td>\n",
       "      <td>0</td>\n",
       "      <td>Apr-01</td>\n",
       "      <td>1</td>\n",
       "      <td>NaN</td>\n",
       "      <td>45.0</td>\n",
       "      <td>9</td>\n",
       "      <td>1</td>\n",
       "      <td>4341</td>\n",
       "      <td>10.3</td>\n",
       "      <td>34</td>\n",
       "      <td>w</td>\n",
       "      <td>2386.02</td>\n",
       "      <td>2386.02</td>\n",
       "      <td>167.02</td>\n",
       "      <td>167.02</td>\n",
       "      <td>...</td>\n",
       "      <td>1</td>\n",
       "      <td>0</td>\n",
       "      <td>60124</td>\n",
       "      <td>16901</td>\n",
       "      <td>36500</td>\n",
       "      <td>18124</td>\n",
       "      <td>NaN</td>\n",
       "      <td>NaN</td>\n",
       "      <td>NaN</td>\n",
       "      <td>NaN</td>\n",
       "      <td>NaN</td>\n",
       "      <td>NaN</td>\n",
       "      <td>NaN</td>\n",
       "      <td>NaN</td>\n",
       "      <td>NaN</td>\n",
       "      <td>NaN</td>\n",
       "      <td>NaN</td>\n",
       "      <td>N</td>\n",
       "      <td>NaN</td>\n",
       "      <td>NaN</td>\n",
       "      <td>NaN</td>\n",
       "      <td>NaN</td>\n",
       "      <td>NaN</td>\n",
       "      <td>NaN</td>\n",
       "      <td>NaN</td>\n",
       "      <td>NaN</td>\n",
       "      <td>NaN</td>\n",
       "      <td>NaN</td>\n",
       "      <td>NaN</td>\n",
       "      <td>NaN</td>\n",
       "      <td>NaN</td>\n",
       "      <td>NaN</td>\n",
       "      <td>Cash</td>\n",
       "      <td>N</td>\n",
       "      <td>NaN</td>\n",
       "      <td>NaN</td>\n",
       "      <td>NaN</td>\n",
       "      <td>NaN</td>\n",
       "      <td>NaN</td>\n",
       "      <td>NaN</td>\n",
       "    </tr>\n",
       "    <tr>\n",
       "      <th>1</th>\n",
       "      <td>NaN</td>\n",
       "      <td>NaN</td>\n",
       "      <td>30000</td>\n",
       "      <td>30000</td>\n",
       "      <td>30000</td>\n",
       "      <td>60 months</td>\n",
       "      <td>18.94</td>\n",
       "      <td>777.23</td>\n",
       "      <td>D</td>\n",
       "      <td>D2</td>\n",
       "      <td>Postmaster</td>\n",
       "      <td>10+ years</td>\n",
       "      <td>MORTGAGE</td>\n",
       "      <td>90000</td>\n",
       "      <td>Source Verified</td>\n",
       "      <td>Dec-18</td>\n",
       "      <td>Current</td>\n",
       "      <td>n</td>\n",
       "      <td>NaN</td>\n",
       "      <td>NaN</td>\n",
       "      <td>debt_consolidation</td>\n",
       "      <td>Debt consolidation</td>\n",
       "      <td>713xx</td>\n",
       "      <td>LA</td>\n",
       "      <td>26.52</td>\n",
       "      <td>0</td>\n",
       "      <td>Jun-87</td>\n",
       "      <td>0</td>\n",
       "      <td>71.0</td>\n",
       "      <td>75.0</td>\n",
       "      <td>13</td>\n",
       "      <td>1</td>\n",
       "      <td>12315</td>\n",
       "      <td>24.2</td>\n",
       "      <td>44</td>\n",
       "      <td>w</td>\n",
       "      <td>29387.75</td>\n",
       "      <td>29387.75</td>\n",
       "      <td>1507.11</td>\n",
       "      <td>1507.11</td>\n",
       "      <td>...</td>\n",
       "      <td>1</td>\n",
       "      <td>0</td>\n",
       "      <td>372872</td>\n",
       "      <td>99468</td>\n",
       "      <td>15000</td>\n",
       "      <td>94072</td>\n",
       "      <td>NaN</td>\n",
       "      <td>NaN</td>\n",
       "      <td>NaN</td>\n",
       "      <td>NaN</td>\n",
       "      <td>NaN</td>\n",
       "      <td>NaN</td>\n",
       "      <td>NaN</td>\n",
       "      <td>NaN</td>\n",
       "      <td>NaN</td>\n",
       "      <td>NaN</td>\n",
       "      <td>NaN</td>\n",
       "      <td>N</td>\n",
       "      <td>NaN</td>\n",
       "      <td>NaN</td>\n",
       "      <td>NaN</td>\n",
       "      <td>NaN</td>\n",
       "      <td>NaN</td>\n",
       "      <td>NaN</td>\n",
       "      <td>NaN</td>\n",
       "      <td>NaN</td>\n",
       "      <td>NaN</td>\n",
       "      <td>NaN</td>\n",
       "      <td>NaN</td>\n",
       "      <td>NaN</td>\n",
       "      <td>NaN</td>\n",
       "      <td>NaN</td>\n",
       "      <td>Cash</td>\n",
       "      <td>N</td>\n",
       "      <td>NaN</td>\n",
       "      <td>NaN</td>\n",
       "      <td>NaN</td>\n",
       "      <td>NaN</td>\n",
       "      <td>NaN</td>\n",
       "      <td>NaN</td>\n",
       "    </tr>\n",
       "    <tr>\n",
       "      <th>2</th>\n",
       "      <td>NaN</td>\n",
       "      <td>NaN</td>\n",
       "      <td>5000</td>\n",
       "      <td>5000</td>\n",
       "      <td>5000</td>\n",
       "      <td>36 months</td>\n",
       "      <td>17.97</td>\n",
       "      <td>180.69</td>\n",
       "      <td>D</td>\n",
       "      <td>D1</td>\n",
       "      <td>Administrative</td>\n",
       "      <td>6 years</td>\n",
       "      <td>MORTGAGE</td>\n",
       "      <td>59280</td>\n",
       "      <td>Source Verified</td>\n",
       "      <td>Dec-18</td>\n",
       "      <td>Current</td>\n",
       "      <td>n</td>\n",
       "      <td>NaN</td>\n",
       "      <td>NaN</td>\n",
       "      <td>debt_consolidation</td>\n",
       "      <td>Debt consolidation</td>\n",
       "      <td>490xx</td>\n",
       "      <td>MI</td>\n",
       "      <td>10.51</td>\n",
       "      <td>0</td>\n",
       "      <td>Apr-11</td>\n",
       "      <td>0</td>\n",
       "      <td>NaN</td>\n",
       "      <td>NaN</td>\n",
       "      <td>8</td>\n",
       "      <td>0</td>\n",
       "      <td>4599</td>\n",
       "      <td>19.1</td>\n",
       "      <td>13</td>\n",
       "      <td>w</td>\n",
       "      <td>4787.21</td>\n",
       "      <td>4787.21</td>\n",
       "      <td>353.89</td>\n",
       "      <td>353.89</td>\n",
       "      <td>...</td>\n",
       "      <td>0</td>\n",
       "      <td>0</td>\n",
       "      <td>136927</td>\n",
       "      <td>11749</td>\n",
       "      <td>13800</td>\n",
       "      <td>10000</td>\n",
       "      <td>NaN</td>\n",
       "      <td>NaN</td>\n",
       "      <td>NaN</td>\n",
       "      <td>NaN</td>\n",
       "      <td>NaN</td>\n",
       "      <td>NaN</td>\n",
       "      <td>NaN</td>\n",
       "      <td>NaN</td>\n",
       "      <td>NaN</td>\n",
       "      <td>NaN</td>\n",
       "      <td>NaN</td>\n",
       "      <td>N</td>\n",
       "      <td>NaN</td>\n",
       "      <td>NaN</td>\n",
       "      <td>NaN</td>\n",
       "      <td>NaN</td>\n",
       "      <td>NaN</td>\n",
       "      <td>NaN</td>\n",
       "      <td>NaN</td>\n",
       "      <td>NaN</td>\n",
       "      <td>NaN</td>\n",
       "      <td>NaN</td>\n",
       "      <td>NaN</td>\n",
       "      <td>NaN</td>\n",
       "      <td>NaN</td>\n",
       "      <td>NaN</td>\n",
       "      <td>Cash</td>\n",
       "      <td>N</td>\n",
       "      <td>NaN</td>\n",
       "      <td>NaN</td>\n",
       "      <td>NaN</td>\n",
       "      <td>NaN</td>\n",
       "      <td>NaN</td>\n",
       "      <td>NaN</td>\n",
       "    </tr>\n",
       "    <tr>\n",
       "      <th>3</th>\n",
       "      <td>NaN</td>\n",
       "      <td>NaN</td>\n",
       "      <td>4000</td>\n",
       "      <td>4000</td>\n",
       "      <td>4000</td>\n",
       "      <td>36 months</td>\n",
       "      <td>18.94</td>\n",
       "      <td>146.51</td>\n",
       "      <td>D</td>\n",
       "      <td>D2</td>\n",
       "      <td>IT Supervisor</td>\n",
       "      <td>10+ years</td>\n",
       "      <td>MORTGAGE</td>\n",
       "      <td>92000</td>\n",
       "      <td>Source Verified</td>\n",
       "      <td>Dec-18</td>\n",
       "      <td>Current</td>\n",
       "      <td>n</td>\n",
       "      <td>NaN</td>\n",
       "      <td>NaN</td>\n",
       "      <td>debt_consolidation</td>\n",
       "      <td>Debt consolidation</td>\n",
       "      <td>985xx</td>\n",
       "      <td>WA</td>\n",
       "      <td>16.74</td>\n",
       "      <td>0</td>\n",
       "      <td>Feb-06</td>\n",
       "      <td>0</td>\n",
       "      <td>NaN</td>\n",
       "      <td>NaN</td>\n",
       "      <td>10</td>\n",
       "      <td>0</td>\n",
       "      <td>5468</td>\n",
       "      <td>78.1</td>\n",
       "      <td>13</td>\n",
       "      <td>w</td>\n",
       "      <td>3831.93</td>\n",
       "      <td>3831.93</td>\n",
       "      <td>286.71</td>\n",
       "      <td>286.71</td>\n",
       "      <td>...</td>\n",
       "      <td>0</td>\n",
       "      <td>0</td>\n",
       "      <td>385183</td>\n",
       "      <td>36151</td>\n",
       "      <td>5000</td>\n",
       "      <td>44984</td>\n",
       "      <td>NaN</td>\n",
       "      <td>NaN</td>\n",
       "      <td>NaN</td>\n",
       "      <td>NaN</td>\n",
       "      <td>NaN</td>\n",
       "      <td>NaN</td>\n",
       "      <td>NaN</td>\n",
       "      <td>NaN</td>\n",
       "      <td>NaN</td>\n",
       "      <td>NaN</td>\n",
       "      <td>NaN</td>\n",
       "      <td>N</td>\n",
       "      <td>NaN</td>\n",
       "      <td>NaN</td>\n",
       "      <td>NaN</td>\n",
       "      <td>NaN</td>\n",
       "      <td>NaN</td>\n",
       "      <td>NaN</td>\n",
       "      <td>NaN</td>\n",
       "      <td>NaN</td>\n",
       "      <td>NaN</td>\n",
       "      <td>NaN</td>\n",
       "      <td>NaN</td>\n",
       "      <td>NaN</td>\n",
       "      <td>NaN</td>\n",
       "      <td>NaN</td>\n",
       "      <td>Cash</td>\n",
       "      <td>N</td>\n",
       "      <td>NaN</td>\n",
       "      <td>NaN</td>\n",
       "      <td>NaN</td>\n",
       "      <td>NaN</td>\n",
       "      <td>NaN</td>\n",
       "      <td>NaN</td>\n",
       "    </tr>\n",
       "    <tr>\n",
       "      <th>4</th>\n",
       "      <td>NaN</td>\n",
       "      <td>NaN</td>\n",
       "      <td>30000</td>\n",
       "      <td>30000</td>\n",
       "      <td>30000</td>\n",
       "      <td>60 months</td>\n",
       "      <td>16.14</td>\n",
       "      <td>731.78</td>\n",
       "      <td>C</td>\n",
       "      <td>C4</td>\n",
       "      <td>Mechanic</td>\n",
       "      <td>10+ years</td>\n",
       "      <td>MORTGAGE</td>\n",
       "      <td>57250</td>\n",
       "      <td>Not Verified</td>\n",
       "      <td>Dec-18</td>\n",
       "      <td>Current</td>\n",
       "      <td>n</td>\n",
       "      <td>NaN</td>\n",
       "      <td>NaN</td>\n",
       "      <td>debt_consolidation</td>\n",
       "      <td>Debt consolidation</td>\n",
       "      <td>212xx</td>\n",
       "      <td>MD</td>\n",
       "      <td>26.35</td>\n",
       "      <td>0</td>\n",
       "      <td>Dec-00</td>\n",
       "      <td>0</td>\n",
       "      <td>NaN</td>\n",
       "      <td>NaN</td>\n",
       "      <td>12</td>\n",
       "      <td>0</td>\n",
       "      <td>829</td>\n",
       "      <td>3.6</td>\n",
       "      <td>26</td>\n",
       "      <td>w</td>\n",
       "      <td>29339.02</td>\n",
       "      <td>29339.02</td>\n",
       "      <td>1423.21</td>\n",
       "      <td>1423.21</td>\n",
       "      <td>...</td>\n",
       "      <td>0</td>\n",
       "      <td>0</td>\n",
       "      <td>157548</td>\n",
       "      <td>29674</td>\n",
       "      <td>9300</td>\n",
       "      <td>32332</td>\n",
       "      <td>NaN</td>\n",
       "      <td>NaN</td>\n",
       "      <td>NaN</td>\n",
       "      <td>NaN</td>\n",
       "      <td>NaN</td>\n",
       "      <td>NaN</td>\n",
       "      <td>NaN</td>\n",
       "      <td>NaN</td>\n",
       "      <td>NaN</td>\n",
       "      <td>NaN</td>\n",
       "      <td>NaN</td>\n",
       "      <td>N</td>\n",
       "      <td>NaN</td>\n",
       "      <td>NaN</td>\n",
       "      <td>NaN</td>\n",
       "      <td>NaN</td>\n",
       "      <td>NaN</td>\n",
       "      <td>NaN</td>\n",
       "      <td>NaN</td>\n",
       "      <td>NaN</td>\n",
       "      <td>NaN</td>\n",
       "      <td>NaN</td>\n",
       "      <td>NaN</td>\n",
       "      <td>NaN</td>\n",
       "      <td>NaN</td>\n",
       "      <td>NaN</td>\n",
       "      <td>Cash</td>\n",
       "      <td>N</td>\n",
       "      <td>NaN</td>\n",
       "      <td>NaN</td>\n",
       "      <td>NaN</td>\n",
       "      <td>NaN</td>\n",
       "      <td>NaN</td>\n",
       "      <td>NaN</td>\n",
       "    </tr>\n",
       "  </tbody>\n",
       "</table>\n",
       "<p>5 rows × 145 columns</p>\n",
       "</div>"
      ],
      "text/plain": [
       "   id  member_id  ...  settlement_percentage  settlement_term\n",
       "0 NaN        NaN  ...                    NaN              NaN\n",
       "1 NaN        NaN  ...                    NaN              NaN\n",
       "2 NaN        NaN  ...                    NaN              NaN\n",
       "3 NaN        NaN  ...                    NaN              NaN\n",
       "4 NaN        NaN  ...                    NaN              NaN\n",
       "\n",
       "[5 rows x 145 columns]"
      ]
     },
     "execution_count": 21,
     "metadata": {},
     "output_type": "execute_result"
    }
   ],
   "source": [
    "# Import necessary libraries\n",
    "import pandas as pd\n",
    "\n",
    "# Define the path to the CSV file\n",
    "file_path = '/dbfs/FileStore/shared_uploads/adimodi10@gmail.com/loan.csv'\n",
    "\n",
    "# Load the dataset using Pandas\n",
    "loan_data = pd.read_csv(file_path)\n",
    "\n",
    "# Display the first few rows of the dataset\n",
    "loan_data.head()\n"
   ]
  },
  {
   "cell_type": "code",
   "execution_count": 0,
   "metadata": {
    "application/vnd.databricks.v1+cell": {
     "cellMetadata": {
      "byteLimit": 2048000,
      "rowLimit": 10000
     },
     "inputWidgets": {},
     "nuid": "00660cc4-ff4f-4892-9b18-ae4c6a189d73",
     "showTitle": false,
     "title": ""
    }
   },
   "outputs": [
    {
     "output_type": "stream",
     "name": "stdout",
     "output_type": "stream",
     "text": [
      "+----+---------+---------+-----------+---------------+----------+--------+-----------+-----+---------+--------------------+----------+--------------+----------+-------------------+-------+-----------+----------+----+----+------------------+--------------------+--------+----------+-----+-----------+----------------+--------------+----------------------+----------------------+--------+-------+---------+----------+---------+-------------------+---------+-------------+-----------+---------------+---------------+-------------+------------------+----------+-----------------------+------------+---------------+------------+------------------+--------------------------+---------------------------+-----------+----------------+----------------+---------+-------------------------+--------------+------------+-----------+-----------+-----------+-----------+-----------+------------------+------------+-------+-----------+-----------+----------+--------+----------------+------+-----------+------------+--------------------+-----------+--------------+-------+------------------------+-----------+------------------+--------------------+---------------------+--------------+--------+--------------------+------------------------+---------------------+------------------------------+---------------------+--------------+---------------+-----------+---------+---------+-------------+-------------+-------------------+--------+----------------+------------+------------------+------------------+--------------+----------------+--------------------+---------+---------------+-----------------+--------------+--------------------------+---------------+------------------------+----------------------+----------------+----------------+------------------+-------------------+---------------------+--------------------------------+----------------------------------+-----------------------------------+-------------+-------------+---------------+---------------+-------------+---------------+-------------------+-----------------+-----------------------+---------------+------------+--------------------+------------------------------------------+------------------------------+----------------------------+-------------------+--------------------+-------------------------+-----------------+---------------+-----------------+---------------------+---------------+\n|  id|member_id|loan_amnt|funded_amnt|funded_amnt_inv|      term|int_rate|installment|grade|sub_grade|           emp_title|emp_length|home_ownership|annual_inc|verification_status|issue_d|loan_status|pymnt_plan| url|desc|           purpose|               title|zip_code|addr_state|  dti|delinq_2yrs|earliest_cr_line|inq_last_6mths|mths_since_last_delinq|mths_since_last_record|open_acc|pub_rec|revol_bal|revol_util|total_acc|initial_list_status|out_prncp|out_prncp_inv|total_pymnt|total_pymnt_inv|total_rec_prncp|total_rec_int|total_rec_late_fee|recoveries|collection_recovery_fee|last_pymnt_d|last_pymnt_amnt|next_pymnt_d|last_credit_pull_d|collections_12_mths_ex_med|mths_since_last_major_derog|policy_code|application_type|annual_inc_joint|dti_joint|verification_status_joint|acc_now_delinq|tot_coll_amt|tot_cur_bal|open_acc_6m|open_act_il|open_il_12m|open_il_24m|mths_since_rcnt_il|total_bal_il|il_util|open_rv_12m|open_rv_24m|max_bal_bc|all_util|total_rev_hi_lim|inq_fi|total_cu_tl|inq_last_12m|acc_open_past_24mths|avg_cur_bal|bc_open_to_buy|bc_util|chargeoff_within_12_mths|delinq_amnt|mo_sin_old_il_acct|mo_sin_old_rev_tl_op|mo_sin_rcnt_rev_tl_op|mo_sin_rcnt_tl|mort_acc|mths_since_recent_bc|mths_since_recent_bc_dlq|mths_since_recent_inq|mths_since_recent_revol_delinq|num_accts_ever_120_pd|num_actv_bc_tl|num_actv_rev_tl|num_bc_sats|num_bc_tl|num_il_tl|num_op_rev_tl|num_rev_accts|num_rev_tl_bal_gt_0|num_sats|num_tl_120dpd_2m|num_tl_30dpd|num_tl_90g_dpd_24m|num_tl_op_past_12m|pct_tl_nvr_dlq|percent_bc_gt_75|pub_rec_bankruptcies|tax_liens|tot_hi_cred_lim|total_bal_ex_mort|total_bc_limit|total_il_high_credit_limit|revol_bal_joint|sec_app_earliest_cr_line|sec_app_inq_last_6mths|sec_app_mort_acc|sec_app_open_acc|sec_app_revol_util|sec_app_open_act_il|sec_app_num_rev_accts|sec_app_chargeoff_within_12_mths|sec_app_collections_12_mths_ex_med|sec_app_mths_since_last_major_derog|hardship_flag|hardship_type|hardship_reason|hardship_status|deferral_term|hardship_amount|hardship_start_date|hardship_end_date|payment_plan_start_date|hardship_length|hardship_dpd|hardship_loan_status|orig_projected_additional_accrued_interest|hardship_payoff_balance_amount|hardship_last_payment_amount|disbursement_method|debt_settlement_flag|debt_settlement_flag_date|settlement_status|settlement_date|settlement_amount|settlement_percentage|settlement_term|\n+----+---------+---------+-----------+---------------+----------+--------+-----------+-----+---------+--------------------+----------+--------------+----------+-------------------+-------+-----------+----------+----+----+------------------+--------------------+--------+----------+-----+-----------+----------------+--------------+----------------------+----------------------+--------+-------+---------+----------+---------+-------------------+---------+-------------+-----------+---------------+---------------+-------------+------------------+----------+-----------------------+------------+---------------+------------+------------------+--------------------------+---------------------------+-----------+----------------+----------------+---------+-------------------------+--------------+------------+-----------+-----------+-----------+-----------+-----------+------------------+------------+-------+-----------+-----------+----------+--------+----------------+------+-----------+------------+--------------------+-----------+--------------+-------+------------------------+-----------+------------------+--------------------+---------------------+--------------+--------+--------------------+------------------------+---------------------+------------------------------+---------------------+--------------+---------------+-----------+---------+---------+-------------+-------------+-------------------+--------+----------------+------------+------------------+------------------+--------------+----------------+--------------------+---------+---------------+-----------------+--------------+--------------------------+---------------+------------------------+----------------------+----------------+----------------+------------------+-------------------+---------------------+--------------------------------+----------------------------------+-----------------------------------+-------------+-------------+---------------+---------------+-------------+---------------+-------------------+-----------------+-----------------------+---------------+------------+--------------------+------------------------------------------+------------------------------+----------------------------+-------------------+--------------------+-------------------------+-----------------+---------------+-----------------+---------------------+---------------+\n|NULL|     NULL|     2500|       2500|           2500| 36 months|   13.56|      84.92|    C|       C1|                Chef| 10+ years|          RENT|     55000|       Not Verified| Dec-18|    Current|         n|NULL|NULL|debt_consolidation|  Debt consolidation|   109xx|        NY|18.24|          0|          Apr-01|             1|                  NULL|                    45|       9|      1|     4341|      10.3|       34|                  w|  2386.02|      2386.02|     167.02|         167.02|         113.98|        53.04|                 0|         0|                      0|      Feb-19|          84.92|      Mar-19|            Feb-19|                         0|                       NULL|          1|      Individual|            NULL|     NULL|                     NULL|             0|           0|      16901|          2|          2|          1|          2|                 2|       12560|     69|          2|          7|      2137|      28|           42000|     1|         11|           2|                   9|       1878|         34360|    5.9|                       0|          0|               140|                 212|                    1|             1|       0|                   1|                    NULL|                    2|                          NULL|                    0|             2|              5|          3|        3|       16|            7|           18|                  5|       9|               0|           0|                 0|                 3|         100.0|             0.0|                   1|        0|          60124|            16901|         36500|                     18124|           NULL|                    NULL|                  NULL|            NULL|            NULL|              NULL|               NULL|                 NULL|                            NULL|                              NULL|                               NULL|            N|         NULL|           NULL|           NULL|         NULL|           NULL|               NULL|             NULL|                   NULL|           NULL|        NULL|                NULL|                                      NULL|                          NULL|                        NULL|               Cash|                   N|                     NULL|             NULL|           NULL|             NULL|                 NULL|           NULL|\n|NULL|     NULL|    30000|      30000|          30000| 60 months|   18.94|     777.23|    D|       D2|         Postmaster | 10+ years|      MORTGAGE|     90000|    Source Verified| Dec-18|    Current|         n|NULL|NULL|debt_consolidation|  Debt consolidation|   713xx|        LA|26.52|          0|          Jun-87|             0|                    71|                    75|      13|      1|    12315|      24.2|       44|                  w| 29387.75|     29387.75|    1507.11|        1507.11|         612.25|       894.86|                 0|         0|                      0|      Feb-19|         777.23|      Mar-19|            Feb-19|                         0|                       NULL|          1|      Individual|            NULL|     NULL|                     NULL|             0|        1208|     321915|          4|          4|          2|          3|                 3|       87153|     88|          4|          5|       998|      57|           50800|     2|         15|           2|                  10|      24763|         13761|    8.3|                       0|          0|               163|                 378|                    4|             3|       3|                   4|                    NULL|                    4|                          NULL|                    0|             2|              4|          4|        9|       27|            8|           14|                  4|      13|               0|           0|                 0|                 6|          95.0|             0.0|                   1|        0|         372872|            99468|         15000|                     94072|           NULL|                    NULL|                  NULL|            NULL|            NULL|              NULL|               NULL|                 NULL|                            NULL|                              NULL|                               NULL|            N|         NULL|           NULL|           NULL|         NULL|           NULL|               NULL|             NULL|                   NULL|           NULL|        NULL|                NULL|                                      NULL|                          NULL|                        NULL|               Cash|                   N|                     NULL|             NULL|           NULL|             NULL|                 NULL|           NULL|\n|NULL|     NULL|     5000|       5000|           5000| 36 months|   17.97|     180.69|    D|       D1|      Administrative|   6 years|      MORTGAGE|     59280|    Source Verified| Dec-18|    Current|         n|NULL|NULL|debt_consolidation|  Debt consolidation|   490xx|        MI|10.51|          0|          Apr-11|             0|                  NULL|                  NULL|       8|      0|     4599|      19.1|       13|                  w|  4787.21|      4787.21|     353.89|         353.89|         212.79|        141.1|                 0|         0|                      0|      Feb-19|         180.69|      Mar-19|            Feb-19|                         0|                       NULL|          1|      Individual|            NULL|     NULL|                     NULL|             0|           0|     110299|          0|          1|          0|          2|                14|        7150|     72|          0|          2|         0|      35|           24100|     1|          5|           0|                   4|      18383|         13800|    0.0|                       0|          0|                87|                  92|                   15|            14|       2|                  77|                    NULL|                   14|                          NULL|                    0|             0|              3|          3|        3|        4|            6|            7|                  3|       8|               0|           0|                 0|                 0|         100.0|             0.0|                   0|        0|         136927|            11749|         13800|                     10000|           NULL|                    NULL|                  NULL|            NULL|            NULL|              NULL|               NULL|                 NULL|                            NULL|                              NULL|                               NULL|            N|         NULL|           NULL|           NULL|         NULL|           NULL|               NULL|             NULL|                   NULL|           NULL|        NULL|                NULL|                                      NULL|                          NULL|                        NULL|               Cash|                   N|                     NULL|             NULL|           NULL|             NULL|                 NULL|           NULL|\n|NULL|     NULL|     4000|       4000|           4000| 36 months|   18.94|     146.51|    D|       D2|       IT Supervisor| 10+ years|      MORTGAGE|     92000|    Source Verified| Dec-18|    Current|         n|NULL|NULL|debt_consolidation|  Debt consolidation|   985xx|        WA|16.74|          0|          Feb-06|             0|                  NULL|                  NULL|      10|      0|     5468|      78.1|       13|                  w|  3831.93|      3831.93|     286.71|         286.71|         168.07|       118.64|                 0|         0|                      0|      Feb-19|         146.51|      Mar-19|            Feb-19|                         0|                       NULL|          1|      Individual|            NULL|     NULL|                     NULL|             0|         686|     305049|          1|          5|          3|          5|                 5|       30683|     68|          0|          0|      3761|      70|            7000|     2|          4|           3|                   5|      30505|          1239|   75.2|                       0|          0|                62|                 154|                   64|             5|       3|                  64|                    NULL|                    5|                          NULL|                    0|             1|              2|          1|        2|        7|            2|            3|                  2|      10|               0|           0|                 0|                 3|         100.0|           100.0|                   0|        0|         385183|            36151|          5000|                     44984|           NULL|                    NULL|                  NULL|            NULL|            NULL|              NULL|               NULL|                 NULL|                            NULL|                              NULL|                               NULL|            N|         NULL|           NULL|           NULL|         NULL|           NULL|               NULL|             NULL|                   NULL|           NULL|        NULL|                NULL|                                      NULL|                          NULL|                        NULL|               Cash|                   N|                     NULL|             NULL|           NULL|             NULL|                 NULL|           NULL|\n|NULL|     NULL|    30000|      30000|          30000| 60 months|   16.14|     731.78|    C|       C4|            Mechanic| 10+ years|      MORTGAGE|     57250|       Not Verified| Dec-18|    Current|         n|NULL|NULL|debt_consolidation|  Debt consolidation|   212xx|        MD|26.35|          0|          Dec-00|             0|                  NULL|                  NULL|      12|      0|      829|       3.6|       26|                  w| 29339.02|     29339.02|    1423.21|        1423.21|         660.98|       762.23|                 0|         0|                      0|      Feb-19|         731.78|      Mar-19|            Feb-19|                         0|                       NULL|          1|      Individual|            NULL|     NULL|                     NULL|             0|           0|     116007|          3|          5|          3|          5|                 4|       28845|     89|          2|          4|       516|      54|           23100|     1|          0|           0|                   9|       9667|          8471|    8.9|                       0|          0|                53|                 216|                    2|             2|       2|                   2|                    NULL|                   13|                          NULL|                    0|             2|              2|          3|        8|        9|            6|           15|                  2|      12|               0|           0|                 0|                 5|          92.3|             0.0|                   0|        0|         157548|            29674|          9300|                     32332|           NULL|                    NULL|                  NULL|            NULL|            NULL|              NULL|               NULL|                 NULL|                            NULL|                              NULL|                               NULL|            N|         NULL|           NULL|           NULL|         NULL|           NULL|               NULL|             NULL|                   NULL|           NULL|        NULL|                NULL|                                      NULL|                          NULL|                        NULL|               Cash|                   N|                     NULL|             NULL|           NULL|             NULL|                 NULL|           NULL|\n|NULL|     NULL|     5550|       5550|           5550| 36 months|   15.02|     192.45|    C|       C3|        Director COE| 10+ years|      MORTGAGE|    152500|       Not Verified| Dec-18|    Current|         n|NULL|NULL|       credit_card|Credit card refin...|   461xx|        IN|37.94|          0|          Sep-02|             3|                  NULL|                  NULL|      18|      0|    53854|      48.1|       44|                  w|   5302.5|       5302.5|     377.95|         377.95|          247.5|       130.45|                 0|         0|                      0|      Feb-19|         192.45|      Mar-19|            Feb-19|                         0|                       NULL|          1|      Individual|            NULL|     NULL|                     NULL|             0|           0|     685749|          1|          7|          2|          3|                 4|      131524|     72|          1|          4|     17584|      58|          111900|     2|          4|           6|                   8|      40338|         23746|   64.0|                       0|          0|               195|                 176|                   10|             4|       6|                  20|                    NULL|                    3|                          NULL|                    0|             4|              6|          6|       10|       23|            9|           15|                  7|      18|               0|           0|                 0|                 4|         100.0|            60.0|                   0|        0|         831687|           185378|         65900|                    203159|           NULL|                    NULL|                  NULL|            NULL|            NULL|              NULL|               NULL|                 NULL|                            NULL|                              NULL|                               NULL|            N|         NULL|           NULL|           NULL|         NULL|           NULL|               NULL|             NULL|                   NULL|           NULL|        NULL|                NULL|                                      NULL|                          NULL|                        NULL|               Cash|                   N|                     NULL|             NULL|           NULL|             NULL|                 NULL|           NULL|\n|NULL|     NULL|     2000|       2000|           2000| 36 months|   17.97|      72.28|    D|       D1|     Account Manager|   4 years|          RENT|     51000|    Source Verified| Dec-18|    Current|         n|NULL|NULL|debt_consolidation|  Debt consolidation|   606xx|        IL|  2.4|          0|          Nov-04|             1|                  NULL|                  NULL|       1|      0|        0|      NULL|        9|                  w|  1914.71|      1914.71|     141.56|         141.56|          85.29|        56.27|                 0|         0|                      0|      Feb-19|          72.28|      Mar-19|            Feb-19|                         0|                       NULL|          1|      Individual|            NULL|     NULL|                     NULL|             0|           0|        854|          0|          0|          2|          3|                 7|           0|   NULL|          0|          1|         0|     100|               0|     0|          0|           1|                   4|        854|          NULL|   NULL|                       0|          0|               169|                  40|                   23|             7|       0|                NULL|                    NULL|                    1|                          NULL|                    0|             0|              0|          0|        3|        5|            0|            3|                  0|       1|               0|           0|                 0|                 2|         100.0|            NULL|                   0|        0|            854|              854|             0|                         0|           NULL|                    NULL|                  NULL|            NULL|            NULL|              NULL|               NULL|                 NULL|                            NULL|                              NULL|                               NULL|            N|         NULL|           NULL|           NULL|         NULL|           NULL|               NULL|             NULL|                   NULL|           NULL|        NULL|                NULL|                                      NULL|                          NULL|                        NULL|               Cash|                   N|                     NULL|             NULL|           NULL|             NULL|                 NULL|           NULL|\n|NULL|     NULL|     6000|       6000|           6000| 36 months|   13.56|     203.79|    C|       C1|  Assistant Director| 10+ years|          RENT|     65000|    Source Verified| Dec-18|    Current|         n|NULL|NULL|       credit_card|Credit card refin...|   460xx|        IN| 30.1|          0|          Nov-97|             0|                  NULL|                  NULL|      19|      0|    38476|      69.3|       37|                  w|  5864.01|      5864.01|     201.53|         201.53|         135.99|        65.54|                 0|         0|                      0|      Feb-19|         208.31|      Mar-19|            Feb-19|                         0|                       NULL|          1|      Individual|            NULL|     NULL|                     NULL|             0|           0|      91535|          0|          5|          0|          1|                23|       53059|     87|          0|          2|      9413|      74|           55500|     1|          2|           0|                   3|       5085|          3034|   90.8|                       0|          0|               169|                 253|                   13|            13|       1|                  14|                    NULL|                   13|                          NULL|                    0|             7|             12|          8|       10|       15|           14|           20|                 12|      19|               0|           0|                 0| \n\n*** WARNING: max output size exceeded, skipping output. ***\n\n        1|          1|      2837|      89|            4800|     2|          0|           0|                   3|      38025|           271|   94.4|                       0|          0|               139|                 105|                    5|             4|       3|                   5|                      22|                    4|                            22|                    2|             3|              3|          3|        4|        5|            3|            5|                  3|       6|               0|           0|                 1|                 2|          84.6|           100.0|                   0|        0|         243452|            18185|          4800|                     15649|           NULL|                    NULL|                  NULL|            NULL|            NULL|              NULL|               NULL|                 NULL|                            NULL|                              NULL|                               NULL|            N|         NULL|           NULL|           NULL|         NULL|           NULL|               NULL|             NULL|                   NULL|           NULL|        NULL|                NULL|                                      NULL|                          NULL|                        NULL|               Cash|                   N|                     NULL|             NULL|           NULL|             NULL|                 NULL|           NULL|\n|NULL|     NULL|    28000|      28000|          28000| 60 months|   11.31|     613.13|    B|       B3|          Consultant|   2 years|      MORTGAGE|     70000|       Not Verified| Dec-18|    Current|         n|NULL|NULL|       credit_card|Credit card refin...|   300xx|        GA|22.01|          0|          Dec-03|             1|                  NULL|                  NULL|      10|      0|    56152|      55.9|       23|                  w| 27298.25|     27298.25|    1199.87|        1199.87|         701.75|       498.12|                 0|         0|                      0|      Feb-19|         613.13|      Mar-19|            Feb-19|                         0|                       NULL|          1|      Individual|            NULL|     NULL|                     NULL|             0|           0|     177406|          1|          1|          0|          0|                62|        9484|     54|          1|          2|     16284|      56|          100400|     1|          0|           1|                   2|      17741|         44248|   55.9|                       0|          0|               180|                 165|                    6|             6|       1|                   6|                    NULL|                    6|                          NULL|                    0|             5|              5|          8|        9|       13|            8|            9|                  5|      10|               0|           0|                 0|                 1|         100.0|            37.5|                   0|        0|         259435|            65636|        100400|                     17535|           NULL|                    NULL|                  NULL|            NULL|            NULL|              NULL|               NULL|                 NULL|                            NULL|                              NULL|                               NULL|            N|         NULL|           NULL|           NULL|         NULL|           NULL|               NULL|             NULL|                   NULL|           NULL|        NULL|                NULL|                                      NULL|                          NULL|                        NULL|          DirectPay|                   N|                     NULL|             NULL|           NULL|             NULL|                 NULL|           NULL|\n|NULL|     NULL|    11200|      11200|          11200| 36 months|    8.19|     351.95|    A|       A4|Job Coach Supervisor| 10+ years|      MORTGAGE|     65000|       Not Verified| Dec-18|    Current|         n|NULL|NULL|       credit_card|Credit card refin...|   840xx|        UT| 23.6|          0|          Jun-03|             0|                  NULL|                  NULL|      20|      0|     8836|      16.6|       27|                  w|  10647.1|      10647.1|     696.26|         696.26|          552.9|       143.36|                 0|         0|                      0|      Feb-19|         351.95|      Mar-19|            Feb-19|                         0|                       NULL|          1|      Individual|            NULL|     NULL|                     NULL|             0|           0|     249643|          2|          8|          2|          3|                 1|       69959|     68|          0|          0|      4603|      45|           53100|     3|          0|           3|                   3|      12482|         26289|   24.7|                       0|          0|               170|                 186|                   25|             1|       4|                  65|                    NULL|                    1|                          NULL|                    0|             4|              5|          5|        5|       13|           10|           10|                  5|      20|               0|           0|                 0|                 2|         100.0|            20.0|                   0|        0|         345654|            78795|         34900|                    114578|           NULL|                    NULL|                  NULL|            NULL|            NULL|              NULL|               NULL|                 NULL|                            NULL|                              NULL|                               NULL|            N|         NULL|           NULL|           NULL|         NULL|           NULL|               NULL|             NULL|                   NULL|           NULL|        NULL|                NULL|                                      NULL|                          NULL|                        NULL|               Cash|                   N|                     NULL|             NULL|           NULL|             NULL|                 NULL|           NULL|\n|NULL|     NULL|     6500|       6500|           6500| 36 months|   17.97|      234.9|    D|       D1|Quality Field Eng...|   4 years|      MORTGAGE|    154000|    Source Verified| Dec-18|    Current|         n|NULL|NULL|debt_consolidation|  Debt consolidation|   278xx|        NC|28.78|          2|          Oct-08|             0|                     6|                  NULL|      27|      0|    23754|      60.4|       41|                  w|  6222.82|      6222.82|     460.07|         460.07|         277.18|       182.89|                 0|         0|                      0|      Feb-19|          234.9|      Mar-19|            Feb-19|                         0|                          6|          1|      Individual|            NULL|     NULL|                     NULL|             0|           0|     116747|          2|          8|          3|          5|                 1|       92993|     78|          1|          6|      3943|      72|           39300|     3|          3|           3|                  11|       4324|          4578|   62.8|                       1|          0|               122|                  74|                   11|             1|       0|                  13|                    NULL|                    4|                          NULL|                    1|             5|             19|          5|        8|       17|           19|           24|                 19|      27|               0|           0|                 1|                 4|          90.2|            20.0|                   0|        0|         169160|           116747|         12300|                    129860|           NULL|                    NULL|                  NULL|            NULL|            NULL|              NULL|               NULL|                 NULL|                            NULL|                              NULL|                               NULL|            N|         NULL|           NULL|           NULL|         NULL|           NULL|               NULL|             NULL|                   NULL|           NULL|        NULL|                NULL|                                      NULL|                          NULL|                        NULL|               Cash|                   N|                     NULL|             NULL|           NULL|             NULL|                 NULL|           NULL|\n|NULL|     NULL|    22000|      22000|          22000| 60 months|   12.98|     500.35|    B|       B5|             Teller | 10+ years|      MORTGAGE|     65000|    Source Verified| Dec-18|    Current|         n|NULL|NULL|debt_consolidation|  Debt consolidation|   413xx|        KY|11.19|          0|          Jul-90|             0|                  NULL|                  NULL|       8|      0|      134|       0.5|       16|                  w|  21472.4|      21472.4|      976.9|          976.9|          527.6|        449.3|                 0|         0|                      0|      Feb-19|         500.35|      Mar-19|            Feb-19|                         0|                       NULL|          1|      Individual|            NULL|     NULL|                     NULL|             0|           0|      22337|          1|          1|          0|          0|                36|       22127|   NULL|          1|          2|         3|       1|           29500|     0|          0|           0|                   2|       3191|         27197|    0.0|                       0|          0|               162|                 341|                    4|             4|       1|                   4|                    NULL|                   15|                          NULL|                    0|             1|              2|          3|        4|        6|            6|            8|                  2|       8|               0|           0|                 0|                 1|         100.0|             0.0|                   0|        0|          71932|            22337|         27200|                     38535|           NULL|                    NULL|                  NULL|            NULL|            NULL|              NULL|               NULL|                 NULL|                            NULL|                              NULL|                               NULL|            N|         NULL|           NULL|           NULL|         NULL|           NULL|               NULL|             NULL|                   NULL|           NULL|        NULL|                NULL|                                      NULL|                          NULL|                        NULL|               Cash|                   N|                     NULL|             NULL|           NULL|             NULL|                 NULL|           NULL|\n|NULL|     NULL|     3500|       3500|           3500| 36 months|   16.14|      123.3|    C|       C4|respritory therapist| 10+ years|      MORTGAGE|     80000|           Verified| Dec-18|    Current|         n|NULL|NULL|debt_consolidation|  Debt consolidation|   604xx|        IL|13.63|          0|          Dec-88|             0|                    43|                  NULL|       7|      0|     8952|      58.5|       27|                  w|  3346.52|      3346.52|     218.36|         218.36|         153.48|        64.88|                 0|         0|                      0|      Feb-19|          123.3|      Mar-19|            Feb-19|                         0|                         48|          1|       Joint App|          104424|    10.77|                 Verified|             0|           0|      16085|          2|          2|          0|          0|                57|        7133|     26|          3|          4|      3873|      38|           15300|     0|          0|           1|                   4|       2298|          4127|   48.4|                       0|          0|               144|                 360|                    4|             4|       2|                   7|                    NULL|                    7|                           117|                    7|             1|              3|          2|        3|       10|            5|           15|                  3|       7|               0|           0|                 0|                 3|          76.0|            50.0|                   0|        0|          42328|            16085|          8000|                     27028|          10286|                  May-02|                     2|               3|               2|              44.1|                  0|                    6|                               0|                                 0|                               NULL|            N|         NULL|           NULL|           NULL|         NULL|           NULL|               NULL|             NULL|                   NULL|           NULL|        NULL|                NULL|                                      NULL|                          NULL|                        NULL|               Cash|                   N|                     NULL|             NULL|           NULL|             NULL|                 NULL|           NULL|\n|NULL|     NULL|     7000|       7000|           7000| 36 months|   12.98|      235.8|    B|       B5|    Worship Director|   4 years|      MORTGAGE|    102500|       Not Verified| Dec-18|    Current|         n|NULL|NULL|             house|         Home buying|   436xx|        OH| 15.2|          0|          Dec-02|             0|                    38|                  NULL|       9|      0|     1057|       7.2|       21|                  w|   6678.1|       6678.1|     464.03|         464.03|          321.9|       142.13|                 0|         0|                      0|      Feb-19|          235.8|      Mar-19|            Feb-19|                         0|                         68|          1|      Individual|            NULL|     NULL|                     NULL|             0|           0|     174891|          1|          4|          1|          1|                10|       75652|     78|          1|          2|         0|      69|           14700|     1|          0|           3|                   3|      19432|          7200|    0.0|                       0|          0|               182|                 192|                    6|             6|       4|                  26|                    NULL|                   10|                          NULL|                    1|             0|              2|          2|        3|        8|            4|            9|                  2|       9|               0|           0|                 0|                 2|          80.0|             0.0|                   0|        0|         214624|            76709|          7200|                     96826|           NULL|                    NULL|                  NULL|            NULL|            NULL|              NULL|               NULL|                 NULL|                            NULL|                              NULL|                               NULL|            N|         NULL|           NULL|           NULL|         NULL|           NULL|               NULL|             NULL|                   NULL|           NULL|        NULL|                NULL|                                      NULL|                          NULL|                        NULL|               Cash|                   N|                     NULL|             NULL|           NULL|             NULL|                 NULL|           NULL|\n|NULL|     NULL|    25000|      25000|          25000| 60 months|   16.91|     620.11|    C|       C5|          Processor | 10+ years|      MORTGAGE|     23878|       Not Verified| Dec-18|    Current|         n|NULL|NULL|debt_consolidation|  Debt consolidation|   453xx|        OH| 6.26|          0|          Oct-10|             0|                  NULL|                  NULL|       4|      0|     3044|      54.4|        8|                  w| 24460.59|     24460.59|    1204.99|        1204.99|         539.41|       665.58|                 0|         0|                      0|      Feb-19|         620.11|      Mar-19|            Feb-19|                         0|                       NULL|          1|       Joint App|           64793|    18.91|             Not Verified|             0|           0|      79660|          0|          0|          0|          0|                47|           0|   NULL|          0|          0|      1044|      54|            5600|     0|          0|           0|                   0|      19915|             0|  104.4|                       0|          0|                90|                  98|                   27|            27|       2|                  84|                    NULL|                 NULL|                          NULL|                    0|             1|              3|          1|        1|        2|            3|            4|                  3|       4|               0|           0|                 0|                 0|         100.0|           100.0|                   0|        0|          92334|             3044|          1000|                         0|          24654|                  Aug-03|                     0|               2|               9|              78.9|                  1|                   12|                               0|                                 0|                               NULL|            N|         NULL|           NULL|           NULL|         NULL|           NULL|               NULL|             NULL|                   NULL|           NULL|        NULL|                NULL|                                      NULL|                          NULL|                        NULL|               Cash|                   N|                     NULL|             NULL|           NULL|             NULL|                 NULL|           NULL|\n|NULL|     NULL|    16000|      16000|          16000| 60 months|   20.89|     431.87|    D|       D4|Neonatal Nurse Pr...|   4 years|      MORTGAGE|    120000|       Not Verified| Dec-18|    Current|         n|NULL|NULL|       credit_card|Credit card refin...|   720xx|        AR|27.57|          1|          Jul-05|             0|                     8|                  NULL|      13|      0|    18826|      82.2|       37|                  w| 15690.66|     15690.66|     835.89|         835.89|         309.34|       526.55|                 0|         0|                      0|      Feb-19|         431.87|      Mar-19|            Feb-19|                         0|                         35|          1|      Individual|            NULL|     NULL|                     NULL|             0|           0|     434239|          1|          6|          1|          4|                 4|      247928|     90|          1|          1|      9439|      87|           22900|     6|          1|           2|                   5|      33403|           430|   96.8|                       0|          0|               136|                 146|                   12|             4|       2|                  12|                      48|                    4|                             8|                    2|             2|              4|          2|        5|       24|            6|           10|                  4|      13|               0|           0|                 0|                 2|          86.5|           100.0|                   0|        0|         444217|           266754|         13500|                    239338|           NULL|                    NULL|                  NULL|            NULL|            NULL|              NULL|               NULL|                 NULL|                            NULL|                              NULL|                               NULL|            N|         NULL|           NULL|           NULL|         NULL|           NULL|               NULL|             NULL|                   NULL|           NULL|        NULL|                NULL|                                      NULL|                          NULL|                        NULL|               Cash|                   N|                     NULL|             NULL|           NULL|             NULL|                 NULL|           NULL|\n|NULL|     NULL|    13000|      13000|          13000| 60 months|   14.47|     305.67|    C|       C2| Stationary Engineer| 10+ years|      MORTGAGE|     75000|       Not Verified| Dec-18|    Current|         n|NULL|NULL|debt_consolidation|  Debt consolidation|   741xx|        OK|26.16|          0|          Feb-01|             1|                  NULL|                  NULL|       9|      0|    15551|      58.2|       13|                  w| 12700.38|     12700.38|     595.66|         595.66|         299.62|       296.04|                 0|         0|                      0|      Feb-19|         305.67|      Mar-19|            Feb-19|                         0|                       NULL|          1|      Individual|            NULL|     NULL|                     NULL|             0|           0|     131400|          0|          5|          1|          4|                10|       35369|     70|          0|          0|     13287|      66|           26700|     2|          0|           1|                   4|      14600|         11149|   58.2|                       0|          0|               159|                 214|                   81|            10|       1|                  81|                    NULL|                    5|                          NULL|                    0|             3|              3|          3|        3|        8|            3|            4|                  3|       9|               0|           0|                 0|                 1|         100.0|            33.3|                   0|        0|         176598|            50920|         26700|                     50898|           NULL|                    NULL|                  NULL|            NULL|            NULL|              NULL|               NULL|                 NULL|                            NULL|                              NULL|                               NULL|            N|         NULL|           NULL|           NULL|         NULL|           NULL|               NULL|             NULL|                   NULL|           NULL|        NULL|                NULL|                                      NULL|                          NULL|                        NULL|               Cash|                   N|                     NULL|             NULL|           NULL|             NULL|                 NULL|           NULL|\n+----+---------+---------+-----------+---------------+----------+--------+-----------+-----+---------+--------------------+----------+--------------+----------+-------------------+-------+-----------+----------+----+----+------------------+--------------------+--------+----------+-----+-----------+----------------+--------------+----------------------+----------------------+--------+-------+---------+----------+---------+-------------------+---------+-------------+-----------+---------------+---------------+-------------+------------------+----------+-----------------------+------------+---------------+------------+------------------+--------------------------+---------------------------+-----------+----------------+----------------+---------+-------------------------+--------------+------------+-----------+-----------+-----------+-----------+-----------+------------------+------------+-------+-----------+-----------+----------+--------+----------------+------+-----------+------------+--------------------+-----------+--------------+-------+------------------------+-----------+------------------+--------------------+---------------------+--------------+--------+--------------------+------------------------+---------------------+------------------------------+---------------------+--------------+---------------+-----------+---------+---------+-------------+-------------+-------------------+--------+----------------+------------+------------------+------------------+--------------+----------------+--------------------+---------+---------------+-----------------+--------------+--------------------------+---------------+------------------------+----------------------+----------------+----------------+------------------+-------------------+---------------------+--------------------------------+----------------------------------+-----------------------------------+-------------+-------------+---------------+---------------+-------------+---------------+-------------------+-----------------+-----------------------+---------------+------------+--------------------+------------------------------------------+------------------------------+----------------------------+-------------------+--------------------+-------------------------+-----------------+---------------+-----------------+---------------------+---------------+\nonly showing top 20 rows\n\n"
     ]
    }
   ],
   "source": [
    "# Import necessary libraries\n",
    "from pyspark.sql import SparkSession\n",
    "\n",
    "# Initialize Spark session\n",
    "spark = SparkSession.builder.appName(\"SimpleCreditRiskAssessment\").getOrCreate()\n",
    "\n",
    "# Load the dataset\n",
    "file_path = \"dbfs:/FileStore/shared_uploads/adimodi10@gmail.com/loan.csv\"\n",
    "df = spark.read.csv(file_path, header=True, inferSchema=True)\n",
    "\n",
    "# Show the first few rows of the dataset\n",
    "df.show()\n"
   ]
  },
  {
   "cell_type": "code",
   "execution_count": 0,
   "metadata": {
    "application/vnd.databricks.v1+cell": {
     "cellMetadata": {
      "byteLimit": 2048000,
      "rowLimit": 10000
     },
     "inputWidgets": {},
     "nuid": "0c6c2645-7e2a-45a7-9c53-45e0c809c181",
     "showTitle": false,
     "title": ""
    }
   },
   "outputs": [
    {
     "output_type": "stream",
     "name": "stdout",
     "output_type": "stream",
     "text": [
      "+---+---------+---------+-----------+---------------+----+--------+-----------+-----+---------+---------+----------+--------------+----------+-------------------+-------+-----------+----------+---+----+-------+-----+--------+----------+---+-----------+----------------+--------------+----------------------+----------------------+--------+-------+---------+----------+---------+-------------------+---------+-------------+-----------+---------------+---------------+-------------+------------------+----------+-----------------------+------------+---------------+------------+------------------+--------------------------+---------------------------+-----------+----------------+----------------+---------+-------------------------+--------------+------------+-----------+-----------+-----------+-----------+-----------+------------------+------------+-------+-----------+-----------+----------+--------+----------------+------+-----------+------------+--------------------+-----------+--------------+-------+------------------------+-----------+------------------+--------------------+---------------------+--------------+--------+--------------------+------------------------+---------------------+------------------------------+---------------------+--------------+---------------+-----------+---------+---------+-------------+-------------+-------------------+--------+----------------+------------+------------------+------------------+--------------+----------------+--------------------+---------+---------------+-----------------+--------------+--------------------------+---------------+------------------------+----------------------+----------------+----------------+------------------+-------------------+---------------------+--------------------------------+----------------------------------+-----------------------------------+-------------+-------------+---------------+---------------+-------------+---------------+-------------------+-----------------+-----------------------+---------------+------------+--------------------+------------------------------------------+------------------------------+----------------------------+-------------------+--------------------+-------------------------+-----------------+---------------+-----------------+---------------------+---------------+\n| id|member_id|loan_amnt|funded_amnt|funded_amnt_inv|term|int_rate|installment|grade|sub_grade|emp_title|emp_length|home_ownership|annual_inc|verification_status|issue_d|loan_status|pymnt_plan|url|desc|purpose|title|zip_code|addr_state|dti|delinq_2yrs|earliest_cr_line|inq_last_6mths|mths_since_last_delinq|mths_since_last_record|open_acc|pub_rec|revol_bal|revol_util|total_acc|initial_list_status|out_prncp|out_prncp_inv|total_pymnt|total_pymnt_inv|total_rec_prncp|total_rec_int|total_rec_late_fee|recoveries|collection_recovery_fee|last_pymnt_d|last_pymnt_amnt|next_pymnt_d|last_credit_pull_d|collections_12_mths_ex_med|mths_since_last_major_derog|policy_code|application_type|annual_inc_joint|dti_joint|verification_status_joint|acc_now_delinq|tot_coll_amt|tot_cur_bal|open_acc_6m|open_act_il|open_il_12m|open_il_24m|mths_since_rcnt_il|total_bal_il|il_util|open_rv_12m|open_rv_24m|max_bal_bc|all_util|total_rev_hi_lim|inq_fi|total_cu_tl|inq_last_12m|acc_open_past_24mths|avg_cur_bal|bc_open_to_buy|bc_util|chargeoff_within_12_mths|delinq_amnt|mo_sin_old_il_acct|mo_sin_old_rev_tl_op|mo_sin_rcnt_rev_tl_op|mo_sin_rcnt_tl|mort_acc|mths_since_recent_bc|mths_since_recent_bc_dlq|mths_since_recent_inq|mths_since_recent_revol_delinq|num_accts_ever_120_pd|num_actv_bc_tl|num_actv_rev_tl|num_bc_sats|num_bc_tl|num_il_tl|num_op_rev_tl|num_rev_accts|num_rev_tl_bal_gt_0|num_sats|num_tl_120dpd_2m|num_tl_30dpd|num_tl_90g_dpd_24m|num_tl_op_past_12m|pct_tl_nvr_dlq|percent_bc_gt_75|pub_rec_bankruptcies|tax_liens|tot_hi_cred_lim|total_bal_ex_mort|total_bc_limit|total_il_high_credit_limit|revol_bal_joint|sec_app_earliest_cr_line|sec_app_inq_last_6mths|sec_app_mort_acc|sec_app_open_acc|sec_app_revol_util|sec_app_open_act_il|sec_app_num_rev_accts|sec_app_chargeoff_within_12_mths|sec_app_collections_12_mths_ex_med|sec_app_mths_since_last_major_derog|hardship_flag|hardship_type|hardship_reason|hardship_status|deferral_term|hardship_amount|hardship_start_date|hardship_end_date|payment_plan_start_date|hardship_length|hardship_dpd|hardship_loan_status|orig_projected_additional_accrued_interest|hardship_payoff_balance_amount|hardship_last_payment_amount|disbursement_method|debt_settlement_flag|debt_settlement_flag_date|settlement_status|settlement_date|settlement_amount|settlement_percentage|settlement_term|\n+---+---------+---------+-----------+---------------+----+--------+-----------+-----+---------+---------+----------+--------------+----------+-------------------+-------+-----------+----------+---+----+-------+-----+--------+----------+---+-----------+----------------+--------------+----------------------+----------------------+--------+-------+---------+----------+---------+-------------------+---------+-------------+-----------+---------------+---------------+-------------+------------------+----------+-----------------------+------------+---------------+------------+------------------+--------------------------+---------------------------+-----------+----------------+----------------+---------+-------------------------+--------------+------------+-----------+-----------+-----------+-----------+-----------+------------------+------------+-------+-----------+-----------+----------+--------+----------------+------+-----------+------------+--------------------+-----------+--------------+-------+------------------------+-----------+------------------+--------------------+---------------------+--------------+--------+--------------------+------------------------+---------------------+------------------------------+---------------------+--------------+---------------+-----------+---------+---------+-------------+-------------+-------------------+--------+----------------+------------+------------------+------------------+--------------+----------------+--------------------+---------+---------------+-----------------+--------------+--------------------------+---------------+------------------------+----------------------+----------------+----------------+------------------+-------------------+---------------------+--------------------------------+----------------------------------+-----------------------------------+-------------+-------------+---------------+---------------+-------------+---------------+-------------------+-----------------+-----------------------+---------------+------------+--------------------+------------------------------------------+------------------------------+----------------------------+-------------------+--------------------+-------------------------+-----------------+---------------+-----------------+---------------------+---------------+\n+---+---------+---------+-----------+---------------+----+--------+-----------+-----+---------+---------+----------+--------------+----------+-------------------+-------+-----------+----------+---+----+-------+-----+--------+----------+---+-----------+----------------+--------------+----------------------+----------------------+--------+-------+---------+----------+---------+-------------------+---------+-------------+-----------+---------------+---------------+-------------+------------------+----------+-----------------------+------------+---------------+------------+------------------+--------------------------+---------------------------+-----------+----------------+----------------+---------+-------------------------+--------------+------------+-----------+-----------+-----------+-----------+-----------+------------------+------------+-------+-----------+-----------+----------+--------+----------------+------+-----------+------------+--------------------+-----------+--------------+-------+------------------------+-----------+------------------+--------------------+---------------------+--------------+--------+--------------------+------------------------+---------------------+------------------------------+---------------------+--------------+---------------+-----------+---------+---------+-------------+-------------+-------------------+--------+----------------+------------+------------------+------------------+--------------+----------------+--------------------+---------+---------------+-----------------+--------------+--------------------------+---------------+------------------------+----------------------+----------------+----------------+------------------+-------------------+---------------------+--------------------------------+----------------------------------+-----------------------------------+-------------+-------------+---------------+---------------+-------------+---------------+-------------------+-----------------+-----------------------+---------------+------------+--------------------+------------------------------------------+------------------------------+----------------------------+-------------------+--------------------+-------------------------+-----------------+---------------+-----------------+---------------------+---------------+\n\n"
     ]
    }
   ],
   "source": [
    "# Drop rows with missing values\n",
    "df_cleaned = df.dropna()\n",
    "\n",
    "# Show the cleaned data to verify\n",
    "df_cleaned.show()"
   ]
  },
  {
   "cell_type": "code",
   "execution_count": 0,
   "metadata": {
    "application/vnd.databricks.v1+cell": {
     "cellMetadata": {
      "byteLimit": 2048000,
      "rowLimit": 10000
     },
     "inputWidgets": {},
     "nuid": "ded32cc2-fc5a-45cf-9f69-cd45b83ce70f",
     "showTitle": false,
     "title": ""
    }
   },
   "outputs": [
    {
     "output_type": "stream",
     "name": "stdout",
     "output_type": "stream",
     "text": [
      "Number of records in the cleaned DataFrame: 0\n+-----------+-----+\n|loan_status|count|\n+-----------+-----+\n+-----------+-----+\n\n"
     ]
    }
   ],
   "source": [
    "print(f\"Number of records in the cleaned DataFrame: {df_cleaned.count()}\")\n",
    "\n",
    "df_cleaned.groupBy('loan_status').count().show()\n",
    "\n"
   ]
  },
  {
   "cell_type": "code",
   "execution_count": 0,
   "metadata": {
    "application/vnd.databricks.v1+cell": {
     "cellMetadata": {
      "byteLimit": 2048000,
      "rowLimit": 10000
     },
     "inputWidgets": {},
     "nuid": "27add20f-2615-4f01-9359-29f7193abacc",
     "showTitle": false,
     "title": ""
    }
   },
   "outputs": [
    {
     "output_type": "stream",
     "name": "stdout",
     "output_type": "stream",
     "text": [
      "+---------+--------+----------+------------------+\n|loan_amnt|int_rate|annual_inc|loan_status_binary|\n+---------+--------+----------+------------------+\n+---------+--------+----------+------------------+\n\n"
     ]
    }
   ],
   "source": [
    "from pyspark.sql.functions import when\n",
    "\n",
    "# Create a binary target variable 'loan_status_binary'\n",
    "df_cleaned = df_cleaned.withColumn('loan_status_binary', when(df_cleaned['loan_status'] == 'Charged Off', 1).otherwise(0))\n",
    "\n",
    "# Select relevant columns\n",
    "df_selected = df_cleaned.select('loan_amnt', 'int_rate', 'annual_inc', 'loan_status_binary')\n",
    "\n",
    "# Show the selected data to verify\n",
    "df_selected.show()\n"
   ]
  },
  {
   "cell_type": "code",
   "execution_count": 0,
   "metadata": {
    "application/vnd.databricks.v1+cell": {
     "cellMetadata": {
      "byteLimit": 2048000,
      "rowLimit": 10000
     },
     "inputWidgets": {},
     "nuid": "8402fc55-7e90-42bd-a141-d8a69a82f3d4",
     "showTitle": false,
     "title": ""
    }
   },
   "outputs": [
    {
     "output_type": "stream",
     "name": "stdout",
     "output_type": "stream",
     "text": [
      "+---------+--------+----------+--------+------------------+\n|loan_amnt|int_rate|annual_inc|features|loan_status_binary|\n+---------+--------+----------+--------+------------------+\n+---------+--------+----------+--------+------------------+\n\n"
     ]
    }
   ],
   "source": [
    "# Assemble feature columns into a single feature vector\n",
    "assembler = VectorAssembler(inputCols=['loan_amnt', 'int_rate', 'annual_inc'], outputCol='features')\n",
    "df_features = assembler.transform(df_selected)\n",
    "\n",
    "# Check the assembled data\n",
    "df_features.select('loan_amnt', 'int_rate', 'annual_inc', 'features', 'loan_status_binary').show()\n"
   ]
  },
  {
   "cell_type": "code",
   "execution_count": 0,
   "metadata": {
    "application/vnd.databricks.v1+cell": {
     "cellMetadata": {
      "byteLimit": 2048000,
      "rowLimit": 10000
     },
     "inputWidgets": {},
     "nuid": "bfca1ca6-7f9a-48bf-9f44-1c8ae7ea4c90",
     "showTitle": false,
     "title": ""
    }
   },
   "outputs": [],
   "source": [
    "train_data, test_data = df_features.randomSplit([0.8, 0.2], seed=42)"
   ]
  },
  {
   "cell_type": "code",
   "execution_count": 0,
   "metadata": {
    "application/vnd.databricks.v1+cell": {
     "cellMetadata": {
      "byteLimit": 2048000,
      "rowLimit": 10000
     },
     "inputWidgets": {},
     "nuid": "12fbee5e-540f-4daa-938b-4c5b0d8b2d75",
     "showTitle": false,
     "title": ""
    }
   },
   "outputs": [
    {
     "output_type": "stream",
     "name": "stdout",
     "output_type": "stream",
     "text": [
      "Number of records in training set: 0\nNumber of records in testing set: 0\n"
     ]
    }
   ],
   "source": [
    "print(f\"Number of records in training set: {train_data.count()}\")\n",
    "print(f\"Number of records in testing set: {test_data.count()}\")\n"
   ]
  },
  {
   "cell_type": "code",
   "execution_count": 0,
   "metadata": {
    "application/vnd.databricks.v1+cell": {
     "cellMetadata": {
      "byteLimit": 2048000,
      "rowLimit": 10000
     },
     "inputWidgets": {},
     "nuid": "3a31ebe8-bdfd-44be-93b9-cc7d878ee84d",
     "showTitle": false,
     "title": ""
    }
   },
   "outputs": [
    {
     "output_type": "stream",
     "name": "stdout",
     "output_type": "stream",
     "text": [
      "Number of records in training set: 0\nNumber of records in testing set: 0\n"
     ]
    }
   ],
   "source": [
    "print(f\"Number of records in training set: {train_data.count()}\")\n",
    "print(f\"Number of records in testing set: {test_data.count()}\")"
   ]
  },
  {
   "cell_type": "code",
   "execution_count": 0,
   "metadata": {
    "application/vnd.databricks.v1+cell": {
     "cellMetadata": {
      "byteLimit": 2048000,
      "rowLimit": 10000
     },
     "inputWidgets": {},
     "nuid": "7e99ccad-8614-482e-a381-7df3f916e3c3",
     "showTitle": false,
     "title": ""
    }
   },
   "outputs": [
    {
     "output_type": "stream",
     "name": "stdout",
     "output_type": "stream",
     "text": [
      "+----+---------+---------+-----------+---------------+----------+--------+-----------+-----+---------+--------------+----------+--------------+----------+-------------------+-------+-----------+----------+----+----+------------------+------------------+--------+----------+-----+-----------+----------------+--------------+----------------------+----------------------+--------+-------+---------+----------+---------+-------------------+---------+-------------+-----------+---------------+---------------+-------------+------------------+----------+-----------------------+------------+---------------+------------+------------------+--------------------------+---------------------------+-----------+----------------+----------------+---------+-------------------------+--------------+------------+-----------+-----------+-----------+-----------+-----------+------------------+------------+-------+-----------+-----------+----------+--------+----------------+------+-----------+------------+--------------------+-----------+--------------+-------+------------------------+-----------+------------------+--------------------+---------------------+--------------+--------+--------------------+------------------------+---------------------+------------------------------+---------------------+--------------+---------------+-----------+---------+---------+-------------+-------------+-------------------+--------+----------------+------------+------------------+------------------+--------------+----------------+--------------------+---------+---------------+-----------------+--------------+--------------------------+---------------+------------------------+----------------------+----------------+----------------+------------------+-------------------+---------------------+--------------------------------+----------------------------------+-----------------------------------+-------------+-------------+---------------+---------------+-------------+---------------+-------------------+-----------------+-----------------------+---------------+------------+--------------------+------------------------------------------+------------------------------+----------------------------+-------------------+--------------------+-------------------------+-----------------+---------------+-----------------+---------------------+---------------+\n|  id|member_id|loan_amnt|funded_amnt|funded_amnt_inv|      term|int_rate|installment|grade|sub_grade|     emp_title|emp_length|home_ownership|annual_inc|verification_status|issue_d|loan_status|pymnt_plan| url|desc|           purpose|             title|zip_code|addr_state|  dti|delinq_2yrs|earliest_cr_line|inq_last_6mths|mths_since_last_delinq|mths_since_last_record|open_acc|pub_rec|revol_bal|revol_util|total_acc|initial_list_status|out_prncp|out_prncp_inv|total_pymnt|total_pymnt_inv|total_rec_prncp|total_rec_int|total_rec_late_fee|recoveries|collection_recovery_fee|last_pymnt_d|last_pymnt_amnt|next_pymnt_d|last_credit_pull_d|collections_12_mths_ex_med|mths_since_last_major_derog|policy_code|application_type|annual_inc_joint|dti_joint|verification_status_joint|acc_now_delinq|tot_coll_amt|tot_cur_bal|open_acc_6m|open_act_il|open_il_12m|open_il_24m|mths_since_rcnt_il|total_bal_il|il_util|open_rv_12m|open_rv_24m|max_bal_bc|all_util|total_rev_hi_lim|inq_fi|total_cu_tl|inq_last_12m|acc_open_past_24mths|avg_cur_bal|bc_open_to_buy|bc_util|chargeoff_within_12_mths|delinq_amnt|mo_sin_old_il_acct|mo_sin_old_rev_tl_op|mo_sin_rcnt_rev_tl_op|mo_sin_rcnt_tl|mort_acc|mths_since_recent_bc|mths_since_recent_bc_dlq|mths_since_recent_inq|mths_since_recent_revol_delinq|num_accts_ever_120_pd|num_actv_bc_tl|num_actv_rev_tl|num_bc_sats|num_bc_tl|num_il_tl|num_op_rev_tl|num_rev_accts|num_rev_tl_bal_gt_0|num_sats|num_tl_120dpd_2m|num_tl_30dpd|num_tl_90g_dpd_24m|num_tl_op_past_12m|pct_tl_nvr_dlq|percent_bc_gt_75|pub_rec_bankruptcies|tax_liens|tot_hi_cred_lim|total_bal_ex_mort|total_bc_limit|total_il_high_credit_limit|revol_bal_joint|sec_app_earliest_cr_line|sec_app_inq_last_6mths|sec_app_mort_acc|sec_app_open_acc|sec_app_revol_util|sec_app_open_act_il|sec_app_num_rev_accts|sec_app_chargeoff_within_12_mths|sec_app_collections_12_mths_ex_med|sec_app_mths_since_last_major_derog|hardship_flag|hardship_type|hardship_reason|hardship_status|deferral_term|hardship_amount|hardship_start_date|hardship_end_date|payment_plan_start_date|hardship_length|hardship_dpd|hardship_loan_status|orig_projected_additional_accrued_interest|hardship_payoff_balance_amount|hardship_last_payment_amount|disbursement_method|debt_settlement_flag|debt_settlement_flag_date|settlement_status|settlement_date|settlement_amount|settlement_percentage|settlement_term|\n+----+---------+---------+-----------+---------------+----------+--------+-----------+-----+---------+--------------+----------+--------------+----------+-------------------+-------+-----------+----------+----+----+------------------+------------------+--------+----------+-----+-----------+----------------+--------------+----------------------+----------------------+--------+-------+---------+----------+---------+-------------------+---------+-------------+-----------+---------------+---------------+-------------+------------------+----------+-----------------------+------------+---------------+------------+------------------+--------------------------+---------------------------+-----------+----------------+----------------+---------+-------------------------+--------------+------------+-----------+-----------+-----------+-----------+-----------+------------------+------------+-------+-----------+-----------+----------+--------+----------------+------+-----------+------------+--------------------+-----------+--------------+-------+------------------------+-----------+------------------+--------------------+---------------------+--------------+--------+--------------------+------------------------+---------------------+------------------------------+---------------------+--------------+---------------+-----------+---------+---------+-------------+-------------+-------------------+--------+----------------+------------+------------------+------------------+--------------+----------------+--------------------+---------+---------------+-----------------+--------------+--------------------------+---------------+------------------------+----------------------+----------------+----------------+------------------+-------------------+---------------------+--------------------------------+----------------------------------+-----------------------------------+-------------+-------------+---------------+---------------+-------------+---------------+-------------------+-----------------+-----------------------+---------------+------------+--------------------+------------------------------------------+------------------------------+----------------------------+-------------------+--------------------+-------------------------+-----------------+---------------+-----------------+---------------------+---------------+\n|NULL|     NULL|     2500|       2500|           2500| 36 months|   13.56|      84.92|    C|       C1|          Chef| 10+ years|          RENT|     55000|       Not Verified| Dec-18|    Current|         n|NULL|NULL|debt_consolidation|Debt consolidation|   109xx|        NY|18.24|          0|          Apr-01|             1|                  NULL|                    45|       9|      1|     4341|      10.3|       34|                  w|  2386.02|      2386.02|     167.02|         167.02|         113.98|        53.04|                 0|         0|                      0|      Feb-19|          84.92|      Mar-19|            Feb-19|                         0|                       NULL|          1|      Individual|            NULL|     NULL|                     NULL|             0|           0|      16901|          2|          2|          1|          2|                 2|       12560|     69|          2|          7|      2137|      28|           42000|     1|         11|           2|                   9|       1878|         34360|    5.9|                       0|          0|               140|                 212|                    1|             1|       0|                   1|                    NULL|                    2|                          NULL|                    0|             2|              5|          3|        3|       16|            7|           18|                  5|       9|               0|           0|                 0|                 3|         100.0|             0.0|                   1|        0|          60124|            16901|         36500|                     18124|           NULL|                    NULL|                  NULL|            NULL|            NULL|              NULL|               NULL|                 NULL|                            NULL|                              NULL|                               NULL|            N|         NULL|           NULL|           NULL|         NULL|           NULL|               NULL|             NULL|                   NULL|           NULL|        NULL|                NULL|                                      NULL|                          NULL|                        NULL|               Cash|                   N|                     NULL|             NULL|           NULL|             NULL|                 NULL|           NULL|\n|NULL|     NULL|    30000|      30000|          30000| 60 months|   18.94|     777.23|    D|       D2|   Postmaster | 10+ years|      MORTGAGE|     90000|    Source Verified| Dec-18|    Current|         n|NULL|NULL|debt_consolidation|Debt consolidation|   713xx|        LA|26.52|          0|          Jun-87|             0|                    71|                    75|      13|      1|    12315|      24.2|       44|                  w| 29387.75|     29387.75|    1507.11|        1507.11|         612.25|       894.86|                 0|         0|                      0|      Feb-19|         777.23|      Mar-19|            Feb-19|                         0|                       NULL|          1|      Individual|            NULL|     NULL|                     NULL|             0|        1208|     321915|          4|          4|          2|          3|                 3|       87153|     88|          4|          5|       998|      57|           50800|     2|         15|           2|                  10|      24763|         13761|    8.3|                       0|          0|               163|                 378|                    4|             3|       3|                   4|                    NULL|                    4|                          NULL|                    0|             2|              4|          4|        9|       27|            8|           14|                  4|      13|               0|           0|                 0|                 6|          95.0|             0.0|                   1|        0|         372872|            99468|         15000|                     94072|           NULL|                    NULL|                  NULL|            NULL|            NULL|              NULL|               NULL|                 NULL|                            NULL|                              NULL|                               NULL|            N|         NULL|           NULL|           NULL|         NULL|           NULL|               NULL|             NULL|                   NULL|           NULL|        NULL|                NULL|                                      NULL|                          NULL|                        NULL|               Cash|                   N|                     NULL|             NULL|           NULL|             NULL|                 NULL|           NULL|\n|NULL|     NULL|     5000|       5000|           5000| 36 months|   17.97|     180.69|    D|       D1|Administrative|   6 years|      MORTGAGE|     59280|    Source Verified| Dec-18|    Current|         n|NULL|NULL|debt_consolidation|Debt consolidation|   490xx|        MI|10.51|          0|          Apr-11|             0|                  NULL|                  NULL|       8|      0|     4599|      19.1|       13|                  w|  4787.21|      4787.21|     353.89|         353.89|         212.79|        141.1|                 0|         0|                      0|      Feb-19|         180.69|      Mar-19|            Feb-19|                         0|                       NULL|          1|      Individual|            NULL|     NULL|                     NULL|             0|           0|     110299|          0|          1|          0|          2|                14|        7150|     72|          0|          2|         0|      35|           24100|     1|          5|           0|                   4|      18383|         13800|    0.0|                       0|          0|                87|                  92|                   15|            14|       2|                  77|                    NULL|                   14|                          NULL|                    0|             0|              3|          3|        3|        4|            6|            7|                  3|       8|               0|           0|                 0|                 0|         100.0|             0.0|                   0|        0|         136927|            11749|         13800|                     10000|           NULL|                    NULL|                  NULL|            NULL|            NULL|              NULL|               NULL|                 NULL|                            NULL|                              NULL|                               NULL|            N|         NULL|           NULL|           NULL|         NULL|           NULL|               NULL|             NULL|                   NULL|           NULL|        NULL|                NULL|                                      NULL|                          NULL|                        NULL|               Cash|                   N|                     NULL|             NULL|           NULL|             NULL|                 NULL|           NULL|\n|NULL|     NULL|     4000|       4000|           4000| 36 months|   18.94|     146.51|    D|       D2| IT Supervisor| 10+ years|      MORTGAGE|     92000|    Source Verified| Dec-18|    Current|         n|NULL|NULL|debt_consolidation|Debt consolidation|   985xx|        WA|16.74|          0|          Feb-06|             0|                  NULL|                  NULL|      10|      0|     5468|      78.1|       13|                  w|  3831.93|      3831.93|     286.71|         286.71|         168.07|       118.64|                 0|         0|                      0|      Feb-19|         146.51|      Mar-19|            Feb-19|                         0|                       NULL|          1|      Individual|            NULL|     NULL|                     NULL|             0|         686|     305049|          1|          5|          3|          5|                 5|       30683|     68|          0|          0|      3761|      70|            7000|     2|          4|           3|                   5|      30505|          1239|   75.2|                       0|          0|                62|                 154|                   64|             5|       3|                  64|                    NULL|                    5|                          NULL|                    0|             1|              2|          1|        2|        7|            2|            3|                  2|      10|               0|           0|                 0|                 3|         100.0|           100.0|                   0|        0|         385183|            36151|          5000|                     44984|           NULL|                    NULL|                  NULL|            NULL|            NULL|              NULL|               NULL|                 NULL|                            NULL|                              NULL|                               NULL|            N|         NULL|           NULL|           NULL|         NULL|           NULL|               NULL|             NULL|                   NULL|           NULL|        NULL|                NULL|                                      NULL|                          NULL|                        NULL|               Cash|                   N|                     NULL|             NULL|           NULL|             NULL|                 NULL|           NULL|\n|NULL|     NULL|    30000|      30000|          30000| 60 months|   16.14|     731.78|    C|       C4|      Mechanic| 10+ years|      MORTGAGE|     57250|       Not Verified| Dec-18|    Current|         n|NULL|NULL|debt_consolidation|Debt consolidation|   212xx|        MD|26.35|          0|          Dec-00|             0|                  NULL|                  NULL|      12|      0|      829|       3.6|       26|                  w| 29339.02|     29339.02|    1423.21|        1423.21|         660.98|       762.23|                 0|         0|                      0|      Feb-19|         731.78|      Mar-19|            Feb-19|                         0|                       NULL|          1|      Individual|            NULL|     NULL|                     NULL|             0|           0|     116007|          3|          5|          3|          5|                 4|       28845|     89|          2|          4|       516|      54|           23100|     1|          0|           0|                   9|       9667|          8471|    8.9|                       0|          0|                53|                 216|                    2|             2|       2|                   2|                    NULL|                   13|                          NULL|                    0|             2|              2|          3|        8|        9|            6|           15|                  2|      12|               0|           0|                 0|                 5|          92.3|             0.0|                   0|        0|         157548|            29674|          9300|                     32332|           NULL|                    NULL|                  NULL|            NULL|            NULL|              NULL|               NULL|                 NULL|                            NULL|                              NULL|                               NULL|            N|         NULL|           NULL|           NULL|         NULL|           NULL|               NULL|             NULL|                   NULL|           NULL|        NULL|                NULL|                                      NULL|                          NULL|                        NULL|               Cash|                   N|                     NULL|             NULL|           NULL|             NULL|                 NULL|           NULL|\n+----+---------+---------+-----------+---------------+----------+--------+-----------+-----+---------+--------------+----------+--------------+----------+-------------------+-------+-----------+----------+----+----+------------------+------------------+--------+----------+-----+-----------+----------------+--------------+----------------------+----------------------+--------+-------+---------+----------+---------+-------------------+---------+-------------+-----------+---------------+---------------+-------------+------------------+----------+-----------------------+------------+---------------+------------+------------------+--------------------------+---------------------------+-----------+----------------+----------------+---------+-------------------------+--------------+------------+-----------+-----------+-----------+-----------+-----------+------------------+------------+-------+-----------+-----------+----------+--------+----------------+------+-----------+------------+--------------------+-----------+--------------+-------+------------------------+-----------+------------------+--------------------+---------------------+--------------+--------+--------------------+------------------------+---------------------+------------------------------+---------------------+--------------+---------------+-----------+---------+---------+-------------+-------------+-------------------+--------+----------------+------------+------------------+------------------+--------------+----------------+--------------------+---------+---------------+-----------------+--------------+--------------------------+---------------+------------------------+----------------------+----------------+----------------+------------------+-------------------+---------------------+--------------------------------+----------------------------------+-----------------------------------+-------------+-------------+---------------+---------------+-------------+---------------+-------------------+-----------------+-----------------------+---------------+------------+--------------------+------------------------------------------+------------------------------+----------------------------+-------------------+--------------------+-------------------------+-----------------+---------------+-----------------+---------------------+---------------+\nonly showing top 5 rows\n\n+---------+--------+----------+------------------+----------+\n|loan_amnt|int_rate|annual_inc|loan_status_binary|prediction|\n+---------+--------+----------+------------------+----------+\n|     1000|   18.94|     57000|                 1|       1.0|\n|     1000|   30.75|     50000|                 1|       1.0|\n|     1250|    23.4|     52000|                 1|       1.0|\n|     2000|   16.91|     64600|                 1|       1.0|\n|     2500|   13.56|     55000|                 1|       1.0|\n+---------+--------+----------+------------------+----------+\nonly showing top 5 rows\n\nModel Accuracy: 1.0\n"
     ]
    },
    {
     "output_type": "display_data",
     "data": {
      "image/png": "[encoded data removed]",
      "text/plain": [
       "<Figure size 1000x600 with 2 Axes>"
      ]
     },
     "metadata": {},
     "output_type": "display_data"
    }
   ],
   "source": [
    "# Import necessary libraries\n",
    "from pyspark.sql import SparkSession\n",
    "from pyspark.sql.functions import when\n",
    "from pyspark.ml.feature import VectorAssembler\n",
    "from pyspark.ml.classification import LogisticRegression\n",
    "from pyspark.ml.evaluation import BinaryClassificationEvaluator\n",
    "import matplotlib.pyplot as plt\n",
    "\n",
    "# Initialize Spark session\n",
    "spark = SparkSession.builder.appName(\"SimpleCreditRiskAssessment\").getOrCreate()\n",
    "\n",
    "file_path = \"dbfs:/FileStore/shared_uploads/adimodi10@gmail.com/loan.csv\"\n",
    "df = spark.read.csv(file_path, header=True, inferSchema=True)\n",
    "\n",
    "\n",
    "# Show the first few rows of the dataset\n",
    "df.show(5)\n",
    "\n",
    "# Create a binary target variable 'loan_status_binary'\n",
    "# Assuming 'Fully Paid' is 0 and 'Current' is 1\n",
    "df = df.withColumn('loan_status_binary', when(df['loan_status'] == 'Current', 1).otherwise(0))\n",
    "\n",
    "# Select relevant columns for features and target\n",
    "df = df.select('loan_amnt', 'int_rate', 'annual_inc', 'loan_status_binary')\n",
    "\n",
    "# Assemble feature columns into a single feature vector\n",
    "assembler = VectorAssembler(inputCols=['loan_amnt', 'int_rate', 'annual_inc'], outputCol='features')\n",
    "df = assembler.transform(df)\n",
    "\n",
    "# Split the data into training and testing sets\n",
    "train_data, test_data = df.randomSplit([0.8, 0.2], seed=42)\n",
    "\n",
    "# Initialize the Logistic Regression model\n",
    "lr = LogisticRegression(featuresCol='features', labelCol='loan_status_binary')\n",
    "\n",
    "# Train the model\n",
    "lr_model = lr.fit(train_data)\n",
    "\n",
    "# Make predictions on the test data\n",
    "predictions = lr_model.transform(test_data)\n",
    "\n",
    "# Show the predictions\n",
    "predictions.select('loan_amnt', 'int_rate', 'annual_inc', 'loan_status_binary', 'prediction').show(5)\n",
    "\n",
    "# Evaluate the model\n",
    "evaluator = BinaryClassificationEvaluator(labelCol='loan_status_binary')\n",
    "accuracy = evaluator.evaluate(predictions)\n",
    "print(f\"Model Accuracy: {accuracy}\")\n",
    "\n",
    "# Visualize the results\n",
    "predictions_pd = predictions.select('loan_amnt', 'int_rate', 'annual_inc', 'loan_status_binary', 'prediction').toPandas()\n",
    "plt.figure(figsize=(10, 6))\n",
    "plt.scatter(predictions_pd['annual_inc'], predictions_pd['loan_amnt'], c=predictions_pd['prediction'], cmap='coolwarm', alpha=0.6)\n",
    "plt.title('Loan Amount vs Annual Income')\n",
    "plt.xlabel('Annual Income')\n",
    "plt.ylabel('Loan Amount')\n",
    "plt.colorbar(label='Prediction')\n",
    "plt.show()\n"
   ]
  }
 ],
 "metadata": {
  "application/vnd.databricks.v1+notebook": {
   "dashboards": [],
   "environmentMetadata": null,
   "language": "python",
   "notebookMetadata": {
    "pythonIndentUnit": 4
   },
   "notebookName": "Loan Risk",
   "widgets": {}
  }
 },
 "nbformat": 4,
 "nbformat_minor": 0
}
